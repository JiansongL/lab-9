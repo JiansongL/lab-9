{
 "cells": [
  {
   "cell_type": "code",
   "execution_count": 1,
   "id": "ff864efc-fa21-4dcc-8215-9d9466092eb3",
   "metadata": {},
   "outputs": [
    {
     "ename": "ModuleNotFoundError",
     "evalue": "No module named 'imageio'",
     "output_type": "error",
     "traceback": [
      "\u001b[0;31m---------------------------------------------------------------------------\u001b[0m",
      "\u001b[0;31mModuleNotFoundError\u001b[0m                       Traceback (most recent call last)",
      "Cell \u001b[0;32mIn[1], line 11\u001b[0m\n\u001b[1;32m      8\u001b[0m \u001b[38;5;28;01mimport\u001b[39;00m \u001b[38;5;21;01mtensorly\u001b[39;00m\u001b[38;5;21;01m.\u001b[39;00m\u001b[38;5;21;01mdecomposition\u001b[39;00m \u001b[38;5;28;01mas\u001b[39;00m \u001b[38;5;21;01mtd\u001b[39;00m\n\u001b[1;32m      9\u001b[0m \u001b[38;5;28;01mfrom\u001b[39;00m \u001b[38;5;21;01msklearn\u001b[39;00m\u001b[38;5;21;01m.\u001b[39;00m\u001b[38;5;21;01mdecomposition\u001b[39;00m \u001b[38;5;28;01mimport\u001b[39;00m TruncatedSVD\n\u001b[0;32m---> 11\u001b[0m \u001b[38;5;28;01mimport\u001b[39;00m \u001b[38;5;21;01mimageio\u001b[39;00m\n\u001b[1;32m     12\u001b[0m \u001b[38;5;28;01mfrom\u001b[39;00m \u001b[38;5;21;01mPIL\u001b[39;00m \u001b[38;5;28;01mimport\u001b[39;00m Image\n\u001b[1;32m     13\u001b[0m \u001b[38;5;28;01mimport\u001b[39;00m \u001b[38;5;21;01murllib\u001b[39;00m\u001b[38;5;21;01m.\u001b[39;00m\u001b[38;5;21;01mrequest\u001b[39;00m\n",
      "\u001b[0;31mModuleNotFoundError\u001b[0m: No module named 'imageio'"
     ]
    }
   ],
   "source": [
    "import pandas as pd\n",
    "import numpy as np\n",
    "import matplotlib.pyplot as plt\n",
    "plt.rcParams['figure.figsize']=(10,15)\n",
    "import seaborn as sns\n",
    "sns.set_theme()\n",
    "import tensorly as tl\n",
    "import tensorly.decomposition as td\n",
    "from sklearn.decomposition import TruncatedSVD\n",
    "\n",
    "import imageio\n",
    "from PIL import Image\n",
    "import urllib.request\n",
    "from tqdm import tqdm\n",
    "\n",
    "from cairosvg import svg2png\n",
    "\n",
    "import os,time\n",
    "from glob import glob\n",
    "\n",
    "import coloredlogs, logging\n"
   ]
  },
  {
   "cell_type": "code",
   "execution_count": null,
   "id": "5ee395c2-0d46-45c0-8600-9ac4f0301722",
   "metadata": {},
   "outputs": [],
   "source": [
    "# Create a logger object.\n",
    "logger = logging.getLogger(__name__)\n",
    "coloredlogs.install(level='ERROR')"
   ]
  },
  {
   "cell_type": "code",
   "execution_count": null,
   "id": "ca097590-7e3b-4884-9d8a-5f04e7c3cb20",
   "metadata": {},
   "outputs": [],
   "source": [
    "df = pd.read_csv('flags_url.csv')\n",
    "df.head()"
   ]
  },
  {
   "cell_type": "code",
   "execution_count": null,
   "id": "cfecdaad-2dff-4779-a7a0-1a1c3796b1c8",
   "metadata": {},
   "outputs": [],
   "source": [
    "#download all flags\n",
    "for i in tqdm(range(len(df)),ncols=70, colour='green'):\n",
    "    code = df.iloc[i]['alpha-2']\n",
    "    url = df.iloc[i].image_url\n",
    "    path = f'flags/{code}.svg'\n",
    "    if(os.path.isfile(path)): continue\n",
    "    try:\n",
    "        urllib.request.urlretrieve(url,path)\n",
    "    except:\n",
    "        pass"
   ]
  },
  {
   "cell_type": "code",
   "execution_count": null,
   "id": "84ec2548-c134-445b-bb68-fb8a27bb91da",
   "metadata": {},
   "outputs": [],
   "source": [
    "for f in tqdm(glob('flags/*.svg'), ncols=70,colour='magenta'):\n",
    "    pngpath = f.split('.')[0]+'.png'\n",
    "    try:\n",
    "        svg2png(url=f, write_to=pngpath)\n",
    "    except:\n",
    "        pass"
   ]
  },
  {
   "cell_type": "code",
   "execution_count": null,
   "id": "7285e357-6334-4199-8079-91ae34655854",
   "metadata": {},
   "outputs": [],
   "source": [
    "def read_flag(countrycode='IN'):\n",
    "    countrycode = countrycode.upper()\n",
    "    #url = df[df['alpha-2']==countrycode].image_url\n",
    "    path = f'flags/{countrycode}.png'\n",
    "    flag = Image.open(path).convert('RGB').resize((128,64),)\n",
    "    flag = np.array(flag)\n",
    "    return flag"
   ]
  },
  {
   "cell_type": "code",
   "execution_count": null,
   "id": "747527e7-237a-43e1-aa47-f3192d811c02",
   "metadata": {},
   "outputs": [],
   "source": [
    "flag = read_flag('GB')\n",
    "flag.shape"
   ]
  },
  {
   "cell_type": "code",
   "execution_count": null,
   "id": "ae8bdbda-1c7e-4def-a0fc-0833b4849bb3",
   "metadata": {},
   "outputs": [],
   "source": [
    "plt.imshow(flag)\n",
    "plt.axis('off')"
   ]
  },
  {
   "cell_type": "code",
   "execution_count": null,
   "id": "87a10171-7245-410b-b0a4-8da011242e81",
   "metadata": {},
   "outputs": [],
   "source": [
    "def decompose(_FLAG,_RANK):\n",
    "    #(w,f),e = td.non_negative_parafac(np.array(_FLAG,dtype=float),rank=_RANK, n_iter_max=int(1e4), return_errors=True)\n",
    "    (w,f),e = td.parafac(np.array(_FLAG,dtype=float),orthogonalise=True,rank=_RANK, n_iter_max=int(1e4), return_errors=True)\n",
    "    \n",
    "    #print(f'iters:{len(e)}, error: {e[-1]}')\n",
    "    \n",
    "    comps=[]\n",
    "    for r in range(_RANK):\n",
    "        a = f[0][:,r]\n",
    "        b = f[1][:,r]\n",
    "        c = f[2][:,r]\n",
    "        \n",
    "        a/=np.linalg.norm(a)\n",
    "        b/=np.linalg.norm(b)\n",
    "        c/=np.linalg.norm(c)\n",
    "        \n",
    "        comps.append(np.outer(np.outer(a,b),c).reshape(_FLAG.shape))\n",
    "    return comps,e[-1]"
   ]
  },
  {
   "cell_type": "code",
   "execution_count": null,
   "id": "645ff10a-fcba-4a11-b797-ae37e132f3ec",
   "metadata": {},
   "outputs": [],
   "source": [
    "# Example factorization\n",
    "\n",
    "R=4\n",
    "flag_decomp,error = decompose(flag,R)\n",
    "\n",
    "f, axes = plt.subplots(1, R, figsize=(10,15))\n",
    "for r,ax in enumerate(axes):\n",
    "    ax.imshow(flag_decomp[r]*255)"
   ]
  },
  {
   "cell_type": "code",
   "execution_count": null,
   "id": "f5f36914-d9cd-47d8-b651-b3800b281c34",
   "metadata": {},
   "outputs": [],
   "source": [
    "# https://www.britannica.com/list/flags-that-look-alike\n",
    "\n",
    "allpngs = ['Venezuela', 'Ecuador', 'Colombia']\n",
    "allpngs+= ['Slovenia', 'Russia', 'Slovakia']\n",
    "allpngs+= ['Luxembourg','Netherlands']\n",
    "allpngs+= ['Norway','Iceland']\n",
    "allpngs+= ['New Zealand', 'Australia']\n",
    "allpngs+= ['Indonesia', 'Monaco']\n",
    "allpngs+= ['Senegal','Mali']\n",
    "\n",
    "\n",
    "countries = list(map(lambda x:  df[df.country==x]['alpha-2'].to_list()[0] if df[df.country==x]['alpha-2'].to_list() else '', allpngs))\n",
    "#countries"
   ]
  },
  {
   "cell_type": "code",
   "execution_count": null,
   "id": "945dadb2-178d-4305-9c9e-03b193efda87",
   "metadata": {},
   "outputs": [],
   "source": [
    "features = []\n",
    "MAX_RANK=7\n",
    "for c in tqdm(countries, ncols=70, colour='blue'):\n",
    "    \n",
    "    __feat_colors=[]\n",
    "    __feat_factors=[]\n",
    "    __flag = read_flag(c)\n",
    "    __flag_normalised = __flag/np.linalg.norm(__flag)\n",
    "    \n",
    "    \n",
    "    for channel in range(3):\n",
    "        channel_weight = np.linalg.norm(__flag_normalised[:,:,channel])\n",
    "        __feat_colors.append(channel_weight)\n",
    "        \n",
    "    for r in range(1,MAX_RANK):\n",
    "        factors,e = decompose(__flag,r)\n",
    "        __feat_factors.append(e)\n",
    "    \n",
    "    \n",
    "    features.append([__feat_colors, __feat_factors])\n",
    "        "
   ]
  },
  {
   "cell_type": "code",
   "execution_count": null,
   "id": "ae57dda9-2b0d-4d0b-8c99-59988ea8dadd",
   "metadata": {},
   "outputs": [],
   "source": [
    "feat_matrix = np.array(features)\n",
    "feat_matrix"
   ]
  },
  {
   "cell_type": "code",
   "execution_count": null,
   "id": "b72c5772-3d12-493e-912e-3afb691e86f6",
   "metadata": {},
   "outputs": [],
   "source": [
    "svd = TruncatedSVD(n_components=3)\n",
    "compressed = svd.fit_transform(feat_matrix)\n",
    "compressed"
   ]
  },
  {
   "cell_type": "code",
   "execution_count": null,
   "id": "43741210-c7f1-45e3-96bd-3ead4e8d7323",
   "metadata": {},
   "outputs": [],
   "source": [
    "sns.scatterplot(x=compressed[:,0], y=compressed[:,1])\n",
    "for i,c in enumerate(countries):\n",
    "    codes = df['alpha-2'].to_list()\n",
    "    names = df['country'].to_list()\n",
    "    \n",
    "    plt.text(compressed[i,0], compressed[i,2], names[codes.index(c)], horizontalalignment='left', size='small', color='black', weight='normal')\n",
    "    #plt.text(compressed[i,1], compressed[i,2], names[codes.index(c)], horizontalalignment='left', size='small', color='black', weight='normal')\n"
   ]
  },
  {
   "cell_type": "code",
   "execution_count": null,
   "id": "d6bec4c5-9b86-49b8-875c-ab03b4f3d6cb",
   "metadata": {},
   "outputs": [],
   "source": []
  }
 ],
 "metadata": {
  "kernelspec": {
   "display_name": "Python 3 (ipykernel)",
   "language": "python",
   "name": "python3"
  },
  "language_info": {
   "codemirror_mode": {
    "name": "ipython",
    "version": 3
   },
   "file_extension": ".py",
   "mimetype": "text/x-python",
   "name": "python",
   "nbconvert_exporter": "python",
   "pygments_lexer": "ipython3",
   "version": "3.10.6"
  }
 },
 "nbformat": 4,
 "nbformat_minor": 5
}
