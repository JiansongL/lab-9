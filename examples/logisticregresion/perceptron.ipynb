{
 "cells": [
  {
   "cell_type": "code",
   "execution_count": null,
   "id": "cf0fd544-12a8-4534-91ed-401a529d5f1b",
   "metadata": {},
   "outputs": [],
   "source": [
    "import pandas as pd\n",
    "import numpy as np\n",
    "\n",
    "\n",
    "import matplotlib.pyplot as plt\n",
    "plt.rcParams[\"figure.figsize\"] = (10,7)\n",
    "import seaborn as sns\n",
    "\n",
    "\n",
    "from sklearn.linear_model import LogisticRegression\n",
    "from sklearn.linear_model import Perceptron\n",
    "\n",
    "from sklearn.model_selection import train_test_split"
   ]
  },
  {
   "cell_type": "code",
   "execution_count": null,
   "id": "1bd4c7c1-67f4-45b7-84c5-2f8841c953e3",
   "metadata": {},
   "outputs": [],
   "source": [
    "# This CSV file contains a dataset of 240 stars of 6 classes:\n",
    "\n",
    "# Brown Dwarf -> Star Type = 0\n",
    "\n",
    "# Red Dwarf -> Star Type = 1\n",
    "\n",
    "# White Dwarf-> Star Type = 2\n",
    "\n",
    "# Main Sequence -> Star Type = 3\n",
    "\n",
    "# Supergiant -> Star Type = 4\n",
    "\n",
    "# Hypergiant -> Star Type = 5\n",
    "\n",
    "# The Luminosity and radius of each star is calculated w.r.t. that of the values of Sun.\n",
    "# Lo = 3.828 x 10^26 Watts\n",
    "# Ro = 6.9551 x 10^8 m\n",
    "\n",
    "stars = pd.read_csv(\"stars.csv\")\n",
    "stars.head()"
   ]
  },
  {
   "cell_type": "code",
   "execution_count": null,
   "id": "f98d0abf-ce76-40bb-bdf1-f88639e0a443",
   "metadata": {},
   "outputs": [],
   "source": [
    "redwhitedwarfs = stars[ (stars[\"Star type\"] == 1) | (stars[\"Star type\"] == 2) ]"
   ]
  },
  {
   "cell_type": "code",
   "execution_count": null,
   "id": "1fad194c-eacd-49e0-957d-7876c89c686a",
   "metadata": {},
   "outputs": [],
   "source": [
    "sns.scatterplot(data=redwhitedwarfs,x=\"Temperature(K)\",y=\"Radius(R/Ro)\", hue=\"Star type\")"
   ]
  },
  {
   "cell_type": "code",
   "execution_count": null,
   "id": "4ce19e56-ec7d-45aa-b3c9-a12690b21996",
   "metadata": {},
   "outputs": [],
   "source": [
    "# test train split\n",
    "\n",
    "X = redwhitedwarfs[[\"Temperature(K)\",\"Radius(R/Ro)\"]]\n",
    "y = redwhitedwarfs[[\"Star type\"]]\n",
    "X_train, X_test, y_train, y_test = train_test_split(X, y, test_size=0.33, random_state=42)"
   ]
  },
  {
   "cell_type": "code",
   "execution_count": null,
   "id": "351431ff-d1da-4f63-a09d-792175ac32db",
   "metadata": {},
   "outputs": [],
   "source": [
    "clf = LogisticRegression(tol=1e-10, random_state=99,fit_intercept=True,  max_iter=10000)\n",
    "#clf = Perceptron(tol=1e-10, random_state=99, eta0=1e-15,fit_intercept=True,  max_iter=10000)\n",
    "\n",
    "clf.fit(X_train.to_numpy(), y_train.to_numpy().flatten())"
   ]
  },
  {
   "cell_type": "code",
   "execution_count": null,
   "id": "6f8b2ca3-a423-4576-b3e7-87e44b29b3aa",
   "metadata": {},
   "outputs": [],
   "source": [
    "data_test = X_test.copy()\n",
    "data_test[\"groundtruth\"] = y_test[\"Star type\"]\n",
    "data_test[\"predicted\"]=clf.predict(X_test.to_numpy())"
   ]
  },
  {
   "cell_type": "code",
   "execution_count": null,
   "id": "c872a900-f7a5-49bd-8b58-e7cf5630ac45",
   "metadata": {},
   "outputs": [],
   "source": [
    "sns.scatterplot(data=data_test, x = \"Temperature(K)\", y = \"Radius(R/Ro)\", hue = \"groundtruth\")\n",
    "f = lambda x: (-clf.coef_[0][0]*x  - clf.intercept_[0]) / clf.coef_[0][1]\n",
    "\n",
    "\n",
    "x1,x2 = -10000,10000\n",
    "plt.plot([x1,x2],[f(x1),f(x2)])\n",
    "plt.legend().remove()\n",
    "plt.xlim(0,20000)\n",
    "plt.ylim(-3,3)"
   ]
  },
  {
   "cell_type": "code",
   "execution_count": null,
   "id": "f759e5f4-a347-4c1b-ad0a-98d0c790b827",
   "metadata": {},
   "outputs": [],
   "source": [
    "import pickle\n",
    "pickle.dump(clf,open(\"model.pickle\",'wb'))"
   ]
  },
  {
   "cell_type": "code",
   "execution_count": null,
   "id": "5ee6f178-1357-4e67-89b8-445084242cb5",
   "metadata": {},
   "outputs": [],
   "source": [
    "clf.predict([[1,2]])[0]"
   ]
  }
 ],
 "metadata": {
  "kernelspec": {
   "display_name": "Python 3 (ipykernel)",
   "language": "python",
   "name": "python3"
  },
  "language_info": {
   "codemirror_mode": {
    "name": "ipython",
    "version": 3
   },
   "file_extension": ".py",
   "mimetype": "text/x-python",
   "name": "python",
   "nbconvert_exporter": "python",
   "pygments_lexer": "ipython3",
   "version": "3.10.6"
  }
 },
 "nbformat": 4,
 "nbformat_minor": 5
}
