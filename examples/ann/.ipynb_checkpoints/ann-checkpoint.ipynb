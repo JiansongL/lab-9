{
 "cells": [
  {
   "cell_type": "code",
   "execution_count": null,
   "id": "ce2fd819-614f-4ce5-a2be-b63eb6956c2a",
   "metadata": {},
   "outputs": [],
   "source": [
    "import pandas as pd\n",
    "import numpy as np\n",
    "\n",
    "from sklearn.model_selection import train_test_split\n",
    "from sklearn.preprocessing import LabelEncoder\n",
    "\n",
    "from matplotlib import pyplot as plt\n",
    "plt.rcParams['figure.figsize'] = (10,7)\n",
    "import seaborn as sns\n",
    "\n",
    "import tensorflow as tf\n",
    "from tensorflow.keras import Sequential\n",
    "from tensorflow.keras.layers import Dense\n",
    "from tensorflow.keras import initializers"
   ]
  },
  {
   "cell_type": "code",
   "execution_count": null,
   "id": "464a8daa-8256-4e2b-a68e-067d40f5e8c7",
   "metadata": {},
   "outputs": [],
   "source": [
    "stars = pd.read_csv(\"stars.csv\")\n",
    "dwarfs = stars[(stars[\"Star type\"]==1) | (stars[\"Star type\"]==2) ]\n",
    "dwarfs.head()"
   ]
  },
  {
   "cell_type": "code",
   "execution_count": null,
   "id": "44844f64-e567-48e1-9f98-9b0c69b66663",
   "metadata": {},
   "outputs": [],
   "source": [
    "X = dwarfs[[\"Temperature(K)\",\"Radius(R/Ro)\"]].values\n",
    "y = dwarfs[[\"Star type\"]].values\n",
    "yl = LabelEncoder().fit_transform(y.flatten())"
   ]
  },
  {
   "cell_type": "code",
   "execution_count": null,
   "id": "b9cee690-adb6-4e95-81f8-73c2cf679fa8",
   "metadata": {},
   "outputs": [],
   "source": [
    "X_train,X_test,y_train,y_test = train_test_split(X,yl, test_size=0.2, random_state=42)\n",
    "# y_test"
   ]
  },
  {
   "cell_type": "code",
   "execution_count": null,
   "id": "50b5819d-1a98-4f41-84b0-0514b3eb9eb5",
   "metadata": {},
   "outputs": [],
   "source": [
    "sns.scatterplot(x=X_train[:,0],y=X_train[:,1],hue=y_train)\n",
    "plt.xlim(0,25000)"
   ]
  },
  {
   "cell_type": "code",
   "execution_count": null,
   "id": "e131c4e7-9b5b-4614-ae04-bb51d04c5696",
   "metadata": {},
   "outputs": [],
   "source": [
    "# define the model\n",
    "model = Sequential()\n",
    "model.add(Dense(1, activation='leaky_relu', kernel_initializer='he_normal', input_shape=(2,)))\n",
    "#model.add(Dense(4, activation='leaky_relu', kernel_initializer='he_normal'))\n",
    "model.add(Dense(2, activation='softmax'))"
   ]
  },
  {
   "cell_type": "code",
   "execution_count": null,
   "id": "ff686205-c299-4b02-87de-23c8f3893240",
   "metadata": {},
   "outputs": [],
   "source": [
    "model.compile(optimizer='adam', loss='sparse_categorical_crossentropy', metrics=['accuracy'])\n",
    "model.summary()\n",
    "# tf.keras.utils.plot_model(model, show_shapes=True)"
   ]
  },
  {
   "cell_type": "code",
   "execution_count": null,
   "id": "3891a439-9ec5-422c-942c-7f0037469d7f",
   "metadata": {},
   "outputs": [],
   "source": [
    "model.fit(X_train, y_train, epochs=1000, batch_size=30, verbose=0)"
   ]
  },
  {
   "cell_type": "code",
   "execution_count": null,
   "id": "bf62932d-ae75-4a2a-a189-c6f0503c95b1",
   "metadata": {},
   "outputs": [],
   "source": [
    "loss,acc = model.evaluate(X_test, y_test)"
   ]
  },
  {
   "cell_type": "code",
   "execution_count": null,
   "id": "3a69e479-bea1-4863-9341-fe1a725ce745",
   "metadata": {},
   "outputs": [],
   "source": [
    "# Plot the decision boundary\n",
    "temp = np.linspace(0,25000,1000)\n",
    "radius = np.linspace(-1,1,100)\n",
    "from itertools import product\n",
    "randomdata = np.array(list(product(temp,radius)))\n",
    "g = model.predict(randomdata)\n",
    "db=pd.DataFrame({\"temp\":randomdata[:,0],\"radius\":randomdata[:,1],\"label\":list(map(np.argmax,g)) })\n",
    "X_train,X_test,y_train,y_test = train_test_split(X,yl, test_size=0.2,random_state=42)\n",
    "sns.scatterplot(data=db,x=\"temp\",y=\"radius\",hue=\"label\")\n",
    "plt.scatter(X_train[:,0],X_train[:,1],color=\"black\")\n",
    "#plt.xlim(0,5000)\n",
    "plt.ylim(-1,1)"
   ]
  },
  {
   "cell_type": "code",
   "execution_count": null,
   "id": "9139ae6f-9679-4f67-92c3-92fea68dc856",
   "metadata": {},
   "outputs": [],
   "source": []
  }
 ],
 "metadata": {
  "kernelspec": {
   "display_name": "Python 3 (ipykernel)",
   "language": "python",
   "name": "python3"
  },
  "language_info": {
   "codemirror_mode": {
    "name": "ipython",
    "version": 3
   },
   "file_extension": ".py",
   "mimetype": "text/x-python",
   "name": "python",
   "nbconvert_exporter": "python",
   "pygments_lexer": "ipython3",
   "version": "3.10.6"
  }
 },
 "nbformat": 4,
 "nbformat_minor": 5
}
