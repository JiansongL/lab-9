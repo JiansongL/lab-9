{
 "cells": [
  {
   "cell_type": "code",
   "execution_count": null,
   "id": "390baa02-b8fd-4370-9102-9673e4012144",
   "metadata": {},
   "outputs": [],
   "source": [
    "import pandas as pd\n",
    "import numpy as np\n",
    "import matplotlib.pyplot as plt\n",
    "plt.rcParams['figure.figsize'] = (20,20)\n",
    "import os,time\n",
    "from glob import glob\n",
    "\n",
    "from PIL import Image\n",
    "\n",
    "from sklearn import neighbors\n",
    "import re"
   ]
  },
  {
   "cell_type": "code",
   "execution_count": null,
   "id": "106d8bd5-5a3f-42d9-b47e-0854871f8697",
   "metadata": {},
   "outputs": [],
   "source": [
    "df = pd.read_csv('flags_url.csv')"
   ]
  },
  {
   "cell_type": "code",
   "execution_count": null,
   "id": "1182834e-75aa-4153-9a10-900cfd8e5bb9",
   "metadata": {},
   "outputs": [],
   "source": [
    "def read_flag(countrycode='IN',file='', res=(128,64)):\n",
    "    countrycode = countrycode.upper()\n",
    "    #url = df[df['alpha-2']==countrycode].image_url\n",
    "    path = f'flags/{countrycode}.png'\n",
    "    if file!='':\n",
    "        path = file\n",
    "    flag = Image.open(path).convert('RGB').resize(res,)\n",
    "    flag = np.array(flag)\n",
    "    return flag"
   ]
  },
  {
   "cell_type": "code",
   "execution_count": null,
   "id": "edaabb60-a400-4cc4-9808-4bc335cea490",
   "metadata": {},
   "outputs": [],
   "source": [
    "re.match('set\\d+','set10')"
   ]
  },
  {
   "cell_type": "code",
   "execution_count": null,
   "id": "2c9cd703-e1c5-4516-aec2-0a3cea09a171",
   "metadata": {},
   "outputs": [],
   "source": [
    "name2code = lambda x: df[df.country==x]['alpha-2'].to_list()[0]\n",
    "\n",
    "set1 = ['Venezuela', 'Ecuador', 'Colombia']\n",
    "set2 = ['Slovenia', 'Russia', 'Slovakia']\n",
    "set3 = ['Luxembourg','Netherlands']\n",
    "set4 = ['Norway','Iceland']\n",
    "set5 = ['New Zealand', 'Australia']\n",
    "set6 = ['Indonesia', 'Monaco']\n",
    "set7 = ['Senegal','Mali']\n",
    "set8= ['India','Niger']\n",
    "set9= ['Yemen','Syria']\n",
    "set10 = ['Mexico','Italy']\n",
    "\n",
    "sets=[]\n",
    "local_vars = locals()\n",
    "for var in list(local_vars):\n",
    "    if re.match('set\\d+',var):\n",
    "        sets += [eval(var)]\n",
    "\n",
    "#print(sets)\n",
    "        \n",
    "codesets = [ list(map(name2code,s)) for s in sets ]\n",
    "CATEGORIES = list(map(lambda x: x[0], sets))\n",
    "\n",
    "allcodes = []\n",
    "for cs in codesets: allcodes+=cs\n",
    "CATEGORIES"
   ]
  },
  {
   "cell_type": "code",
   "execution_count": null,
   "id": "77ce8c9f-3225-40c6-a134-5a1ad2d93523",
   "metadata": {},
   "outputs": [],
   "source": [
    "# Similar Flags Plot\n",
    "fig,axes = plt.subplots(len(codesets),max(map(len,codesets)))\n",
    "plt.axis('off')\n",
    "\n",
    "for idx,similars in enumerate(codesets):\n",
    "    #similars = similars+[[]] if len(similars)==2 else similars\n",
    "    for idy,s in enumerate(similars):\n",
    "        if len(s): axes[idx,idy].imshow(read_flag(s))\n",
    "        #axes[idx,idy].axis('off')"
   ]
  },
  {
   "cell_type": "code",
   "execution_count": null,
   "id": "8fa23c82-d86b-4687-811d-a7f4d1af7a51",
   "metadata": {},
   "outputs": [],
   "source": [
    "X = np.zeros((len(allcodes),read_flag(allcodes[0]).size))\n",
    "Y = np.zeros(len(allcodes))\n",
    "for idx,code in enumerate(allcodes):\n",
    "    \n",
    "    # find the category\n",
    "    category = 0\n",
    "    for i,cset in enumerate(codesets):\n",
    "        if code in cset: \n",
    "            category = i\n",
    "            break\n",
    "        \n",
    "    x = read_flag(code)\n",
    "    X[idx,:] = x.flatten()\n",
    "    Y[idx] = category"
   ]
  },
  {
   "cell_type": "code",
   "execution_count": null,
   "id": "6390ae10-a381-45de-b731-ad991152cb5b",
   "metadata": {},
   "outputs": [],
   "source": [
    "clf = neighbors.KNeighborsClassifier(n_neighbors=len(CATEGORIES), weights='distance')\n",
    "clf.fit(X,Y)"
   ]
  },
  {
   "cell_type": "code",
   "execution_count": null,
   "id": "d599098b-c474-40c0-a507-5dd3e014e522",
   "metadata": {},
   "outputs": [],
   "source": [
    "clf.predict([read_flag(codesets[3][1]).flatten()])"
   ]
  },
  {
   "cell_type": "code",
   "execution_count": null,
   "id": "0bb1361e-1229-40af-a3dd-9a175af215fe",
   "metadata": {},
   "outputs": [],
   "source": [
    "print(df[df['alpha-2']==codesets[9][-1]].image_url.to_list())"
   ]
  },
  {
   "cell_type": "code",
   "execution_count": null,
   "id": "feacaa32-e0a8-4450-881a-6a54d3e6cfef",
   "metadata": {},
   "outputs": [],
   "source": [
    "alltests = glob('test_flags/*.png')\n",
    "fig,axes = plt.subplots(len(alltests),2,figsize=(20,40))\n",
    "for idx,f in enumerate(glob('test_flags/*.png')):\n",
    "    #print(f)\n",
    "    test = read_flag(file=f)\n",
    "    test_big = read_flag(file=f,res=(521,256))\n",
    "    \n",
    "    p = clf.predict([test.flatten()])[0]\n",
    "    pname = CATEGORIES[int(p)]\n",
    "    pimg = read_flag(name2code(pname), res=(512,256))\n",
    "    \n",
    "    \n",
    "    axes[idx][0].imshow(test_big)\n",
    "    axes[idx][1].imshow(pimg)"
   ]
  },
  {
   "cell_type": "code",
   "execution_count": null,
   "id": "204073ec-e81f-4529-b9f3-9c6eb9e894b6",
   "metadata": {},
   "outputs": [],
   "source": []
  }
 ],
 "metadata": {
  "kernelspec": {
   "display_name": "Python 3 (ipykernel)",
   "language": "python",
   "name": "python3"
  },
  "language_info": {
   "codemirror_mode": {
    "name": "ipython",
    "version": 3
   },
   "file_extension": ".py",
   "mimetype": "text/x-python",
   "name": "python",
   "nbconvert_exporter": "python",
   "pygments_lexer": "ipython3",
   "version": "3.10.6"
  }
 },
 "nbformat": 4,
 "nbformat_minor": 5
}
